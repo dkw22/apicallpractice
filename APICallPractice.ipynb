{
 "cells": [
  {
   "cell_type": "code",
   "execution_count": 39,
   "metadata": {},
   "outputs": [
    {
     "name": "stdout",
     "output_type": "stream",
     "text": [
      "Here is your character:\n",
      "\n",
      "Name: Blashh\n",
      "\n",
      "Class: Monk\n",
      "\n",
      "Active Specialization: Brewmaster\n",
      "\n",
      "Active Role: TANK\n",
      "\n",
      "Guild: Overcomplicated\n",
      "\n",
      "Realm: Area 52\n",
      "\n",
      "Mythic Plus Rank for Class Specialization on Realm: 774\n",
      "\n",
      "Cutting Edge Raid Achievement Curve Timestamp: None\n",
      "\n"
     ]
    }
   ],
   "source": [
    "# API Call Whiteboard\n",
    "# Your goal for this whiteboard question is to create a Person object out of information about my friend's game character from an API call\n",
    "# Then make a display method that displays the following information in the same format from YOUR OBJECT :)\n",
    "# \tName: Stickthrower\n",
    "# Class: Shaman\n",
    "# Active Specialization: Elemental\n",
    "# Active Role: DPS\n",
    "# Guild: xD\n",
    "# Realm: Area 52\n",
    "# Mythic Plus Rank for Class Specialization on Realm: 14 (it wont be 14)\n",
    "# Cutting Edge Raid Achievement Curve Timestamp: 2021-08-04\n",
    "# \t(remember to shorten the timestamp - we only want the date)\n",
    "\n",
    "# 1 Object- a \"character\" object\n",
    "# 8 Attributes - name, class, spec, role, guild, realm, mplus, cetime\n",
    "# At least 2 methods - __init__ and display\n",
    "# You should be able to pass the response of your api call into the instantiation of your object… i.e.\n",
    "\n",
    "# data = api_call.json()\n",
    "# myCharacter = Character(data)\n",
    "# myCharacter.display()\n",
    "\n",
    "# api link: \"https://raider.io/api/v1/characters/profile?region=us&realm=Area52&name=Stickthrower&fields=guild%2Craid_progression%2Cmythic_plus_ranks%2Craid_achievement_curve%3Asanctum-of-domination\"\n",
    "import requests as r\n",
    "def api_call(link):\n",
    "    data = r.get(link)\n",
    "    if data.status_code == 200:\n",
    "        object_data = data.json()\n",
    "        return object_data\n",
    "    else:\n",
    "        print(\"API Call unsuccessful\")\n",
    "    \n",
    "class Character():\n",
    "    def __init__(self,data):\n",
    "        self.data = data\n",
    "        self.name = data['name']\n",
    "        self.c_class = data['class']\n",
    "        self.spec = data['active_spec_name']\n",
    "        self.role = data['active_spec_role']\n",
    "        self.guild = data['guild']['name']\n",
    "        self.realm = data['realm']\n",
    "        self.mplus = data['mythic_plus_ranks']['class']['realm']\n",
    "        try:\n",
    "            self.cetime = data['raid_achievement_curve'][0]['cutting_edge'][0:10]\n",
    "        except:\n",
    "            self.cetime = None\n",
    "    def display(self):\n",
    "        print(\"Here is your character:\\n\")\n",
    "        print(f\"Name: {self.name}\\n\")\n",
    "        print(f\"Class: {self.c_class}\\n\")\n",
    "        print(f\"Active Specialization: {self.spec}\\n\")\n",
    "        print(f\"Active Role: {self.role}\\n\")\n",
    "        print(f\"Guild: {self.guild}\\n\")\n",
    "        print(f\"Realm: {self.realm}\\n\")\n",
    "        print(f\"Mythic Plus Rank for Class Specialization on Realm: {self.mplus}\\n\")\n",
    "        print(f\"Cutting Edge Raid Achievement Curve Timestamp: {self.cetime}\\n\")\n",
    "\n",
    "data = api_call(\"https://raider.io/api/v1/characters/profile?region=us&realm=Area52&name=Blashh&fields=guild%2Craid_progression%2Cmythic_plus_ranks%2Craid_achievement_curve%3Asanctum-of-domination\")\n",
    "myCharacter = Character(data) \n",
    "myCharacter.display()"
   ]
  }
 ],
 "metadata": {
  "kernelspec": {
   "display_name": "Python 3",
   "language": "python",
   "name": "python3"
  },
  "language_info": {
   "codemirror_mode": {
    "name": "ipython",
    "version": 3
   },
   "file_extension": ".py",
   "mimetype": "text/x-python",
   "name": "python",
   "nbconvert_exporter": "python",
   "pygments_lexer": "ipython3",
   "version": "3.8.5"
  }
 },
 "nbformat": 4,
 "nbformat_minor": 4
}
